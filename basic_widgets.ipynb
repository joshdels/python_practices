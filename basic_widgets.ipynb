{
 "cells": [
  {
   "cell_type": "code",
   "execution_count": 1,
   "metadata": {},
   "outputs": [],
   "source": [
    "import ipywidgets as widgets"
   ]
  },
  {
   "cell_type": "code",
   "execution_count": 4,
   "metadata": {},
   "outputs": [],
   "source": [
    "w = widgets.IntSlider()"
   ]
  },
  {
   "cell_type": "code",
   "execution_count": 5,
   "metadata": {},
   "outputs": [
    {
     "data": {
      "application/vnd.jupyter.widget-view+json": {
       "model_id": "3046c647a2954e0cae0d5eaa5ce99b28",
       "version_major": 2,
       "version_minor": 0
      },
      "text/plain": [
       "IntSlider(value=0)"
      ]
     },
     "metadata": {},
     "output_type": "display_data"
    }
   ],
   "source": [
    "from IPython.display import display\n",
    "display(w)"
   ]
  },
  {
   "cell_type": "code",
   "execution_count": 6,
   "metadata": {},
   "outputs": [
    {
     "data": {
      "application/vnd.jupyter.widget-view+json": {
       "model_id": "3046c647a2954e0cae0d5eaa5ce99b28",
       "version_major": 2,
       "version_minor": 0
      },
      "text/plain": [
       "IntSlider(value=45)"
      ]
     },
     "metadata": {},
     "output_type": "display_data"
    }
   ],
   "source": [
    "display(w)"
   ]
  },
  {
   "cell_type": "code",
   "execution_count": 7,
   "metadata": {},
   "outputs": [],
   "source": [
    "w.close()"
   ]
  },
  {
   "cell_type": "code",
   "execution_count": 8,
   "metadata": {},
   "outputs": [
    {
     "data": {
      "application/vnd.jupyter.widget-view+json": {
       "model_id": "57c2859c5f8f4f2ea7f0997db0181987",
       "version_major": 2,
       "version_minor": 0
      },
      "text/plain": [
       "IntSlider(value=0)"
      ]
     },
     "metadata": {},
     "output_type": "display_data"
    }
   ],
   "source": [
    "w = widgets.IntSlider()\n",
    "display(w)"
   ]
  },
  {
   "cell_type": "code",
   "execution_count": 11,
   "metadata": {},
   "outputs": [
    {
     "data": {
      "text/plain": [
       "77"
      ]
     },
     "execution_count": 11,
     "metadata": {},
     "output_type": "execute_result"
    }
   ],
   "source": [
    "w.value"
   ]
  },
  {
   "cell_type": "code",
   "execution_count": 12,
   "metadata": {},
   "outputs": [],
   "source": [
    "w.value = 50"
   ]
  },
  {
   "cell_type": "code",
   "execution_count": 13,
   "metadata": {},
   "outputs": [
    {
     "data": {
      "text/plain": [
       "['_dom_classes',\n",
       " '_model_module',\n",
       " '_model_module_version',\n",
       " '_model_name',\n",
       " '_view_count',\n",
       " '_view_module',\n",
       " '_view_module_version',\n",
       " '_view_name',\n",
       " 'behavior',\n",
       " 'continuous_update',\n",
       " 'description',\n",
       " 'description_allow_html',\n",
       " 'disabled',\n",
       " 'layout',\n",
       " 'max',\n",
       " 'min',\n",
       " 'orientation',\n",
       " 'readout',\n",
       " 'readout_format',\n",
       " 'step',\n",
       " 'style',\n",
       " 'tabbable',\n",
       " 'tooltip',\n",
       " 'value']"
      ]
     },
     "execution_count": 13,
     "metadata": {},
     "output_type": "execute_result"
    }
   ],
   "source": [
    "w.keys"
   ]
  },
  {
   "cell_type": "code",
   "execution_count": 14,
   "metadata": {},
   "outputs": [
    {
     "name": "stdout",
     "output_type": "stream",
     "text": [
      "(('@jupyter-widgets/base', '2.0.0', 'LayoutModel', '@jupyter-widgets/base', '2.0.0', 'LayoutView'), <class 'ipywidgets.widgets.widget_layout.Layout'>)\n",
      "(('@jupyter-widgets/controls', '2.0.0', 'AccordionModel', '@jupyter-widgets/controls', '2.0.0', 'AccordionView'), <class 'ipywidgets.widgets.widget_selectioncontainer.Accordion'>)\n",
      "(('@jupyter-widgets/controls', '2.0.0', 'AudioModel', '@jupyter-widgets/controls', '2.0.0', 'AudioView'), <class 'ipywidgets.widgets.widget_media.Audio'>)\n",
      "(('@jupyter-widgets/controls', '2.0.0', 'BoundedFloatTextModel', '@jupyter-widgets/controls', '2.0.0', 'FloatTextView'), <class 'ipywidgets.widgets.widget_float.BoundedFloatText'>)\n",
      "(('@jupyter-widgets/controls', '2.0.0', 'BoundedIntTextModel', '@jupyter-widgets/controls', '2.0.0', 'IntTextView'), <class 'ipywidgets.widgets.widget_int.BoundedIntText'>)\n",
      "(('@jupyter-widgets/controls', '2.0.0', 'BoxModel', '@jupyter-widgets/controls', '2.0.0', 'BoxView'), <class 'ipywidgets.widgets.widget_box.Box'>)\n",
      "(('@jupyter-widgets/controls', '2.0.0', 'ButtonModel', '@jupyter-widgets/controls', '2.0.0', 'ButtonView'), <class 'ipywidgets.widgets.widget_button.Button'>)\n",
      "(('@jupyter-widgets/controls', '2.0.0', 'ButtonStyleModel', '@jupyter-widgets/base', '2.0.0', 'StyleView'), <class 'ipywidgets.widgets.widget_button.ButtonStyle'>)\n",
      "(('@jupyter-widgets/controls', '2.0.0', 'CheckboxModel', '@jupyter-widgets/controls', '2.0.0', 'CheckboxView'), <class 'ipywidgets.widgets.widget_bool.Checkbox'>)\n",
      "(('@jupyter-widgets/controls', '2.0.0', 'CheckboxStyleModel', '@jupyter-widgets/base', '2.0.0', 'StyleView'), <class 'ipywidgets.widgets.widget_bool.CheckboxStyle'>)\n",
      "(('@jupyter-widgets/controls', '2.0.0', 'ColorPickerModel', '@jupyter-widgets/controls', '2.0.0', 'ColorPickerView'), <class 'ipywidgets.widgets.widget_color.ColorPicker'>)\n",
      "(('@jupyter-widgets/controls', '2.0.0', 'ColorsInputModel', '@jupyter-widgets/controls', '2.0.0', 'ColorsInputView'), <class 'ipywidgets.widgets.widget_tagsinput.ColorsInput'>)\n",
      "(('@jupyter-widgets/controls', '2.0.0', 'ComboboxModel', '@jupyter-widgets/controls', '2.0.0', 'ComboboxView'), <class 'ipywidgets.widgets.widget_string.Combobox'>)\n",
      "(('@jupyter-widgets/controls', '2.0.0', 'ControllerAxisModel', '@jupyter-widgets/controls', '2.0.0', 'ControllerAxisView'), <class 'ipywidgets.widgets.widget_controller.Axis'>)\n",
      "(('@jupyter-widgets/controls', '2.0.0', 'ControllerButtonModel', '@jupyter-widgets/controls', '2.0.0', 'ControllerButtonView'), <class 'ipywidgets.widgets.widget_controller.Button'>)\n",
      "(('@jupyter-widgets/controls', '2.0.0', 'ControllerModel', '@jupyter-widgets/controls', '2.0.0', 'ControllerView'), <class 'ipywidgets.widgets.widget_controller.Controller'>)\n",
      "(('@jupyter-widgets/controls', '2.0.0', 'DOMWidgetModel', '@jupyter-widgets/controls', '2.0.0', None), <class 'ipywidgets.widgets.widget_media._Media'>)\n",
      "(('@jupyter-widgets/controls', '2.0.0', 'DatePickerModel', '@jupyter-widgets/controls', '2.0.0', 'DatePickerView'), <class 'ipywidgets.widgets.widget_date.DatePicker'>)\n",
      "(('@jupyter-widgets/controls', '2.0.0', 'DatetimeModel', '@jupyter-widgets/controls', '2.0.0', 'DatetimeView'), <class 'ipywidgets.widgets.widget_datetime.DatetimePicker'>)\n",
      "(('@jupyter-widgets/controls', '2.0.0', 'DescriptionStyleModel', '@jupyter-widgets/base', '2.0.0', 'StyleView'), <class 'ipywidgets.widgets.widget_description.DescriptionStyle'>)\n",
      "(('@jupyter-widgets/controls', '2.0.0', 'DirectionalLinkModel', '@jupyter-widgets/controls', '2.0.0', None), <class 'ipywidgets.widgets.widget_link.DirectionalLink'>)\n",
      "(('@jupyter-widgets/controls', '2.0.0', 'DropdownModel', '@jupyter-widgets/controls', '2.0.0', 'DropdownView'), <class 'ipywidgets.widgets.widget_selection.Dropdown'>)\n",
      "(('@jupyter-widgets/controls', '2.0.0', 'FileUploadModel', '@jupyter-widgets/controls', '2.0.0', 'FileUploadView'), <class 'ipywidgets.widgets.widget_upload.FileUpload'>)\n",
      "(('@jupyter-widgets/controls', '2.0.0', 'FloatLogSliderModel', '@jupyter-widgets/controls', '2.0.0', 'FloatLogSliderView'), <class 'ipywidgets.widgets.widget_float.FloatLogSlider'>)\n",
      "(('@jupyter-widgets/controls', '2.0.0', 'FloatProgressModel', '@jupyter-widgets/controls', '2.0.0', 'ProgressView'), <class 'ipywidgets.widgets.widget_float.FloatProgress'>)\n",
      "(('@jupyter-widgets/controls', '2.0.0', 'FloatRangeSliderModel', '@jupyter-widgets/controls', '2.0.0', 'FloatRangeSliderView'), <class 'ipywidgets.widgets.widget_float.FloatRangeSlider'>)\n",
      "(('@jupyter-widgets/controls', '2.0.0', 'FloatSliderModel', '@jupyter-widgets/controls', '2.0.0', 'FloatSliderView'), <class 'ipywidgets.widgets.widget_float.FloatSlider'>)\n",
      "(('@jupyter-widgets/controls', '2.0.0', 'FloatTextModel', '@jupyter-widgets/controls', '2.0.0', 'FloatTextView'), <class 'ipywidgets.widgets.widget_float.FloatText'>)\n",
      "(('@jupyter-widgets/controls', '2.0.0', 'FloatsInputModel', '@jupyter-widgets/controls', '2.0.0', 'FloatsInputView'), <class 'ipywidgets.widgets.widget_tagsinput.FloatsInput'>)\n",
      "(('@jupyter-widgets/controls', '2.0.0', 'GridBoxModel', '@jupyter-widgets/controls', '2.0.0', 'GridBoxView'), <class 'ipywidgets.widgets.widget_box.GridBox'>)\n",
      "(('@jupyter-widgets/controls', '2.0.0', 'HBoxModel', '@jupyter-widgets/controls', '2.0.0', 'HBoxView'), <class 'ipywidgets.widgets.widget_box.HBox'>)\n",
      "(('@jupyter-widgets/controls', '2.0.0', 'HTMLMathModel', '@jupyter-widgets/controls', '2.0.0', 'HTMLMathView'), <class 'ipywidgets.widgets.widget_string.HTMLMath'>)\n",
      "(('@jupyter-widgets/controls', '2.0.0', 'HTMLMathStyleModel', '@jupyter-widgets/base', '2.0.0', 'StyleView'), <class 'ipywidgets.widgets.widget_string.HTMLMathStyle'>)\n",
      "(('@jupyter-widgets/controls', '2.0.0', 'HTMLModel', '@jupyter-widgets/controls', '2.0.0', 'HTMLView'), <class 'ipywidgets.widgets.widget_string.HTML'>)\n",
      "(('@jupyter-widgets/controls', '2.0.0', 'HTMLStyleModel', '@jupyter-widgets/base', '2.0.0', 'StyleView'), <class 'ipywidgets.widgets.widget_string.HTMLStyle'>)\n",
      "(('@jupyter-widgets/controls', '2.0.0', 'ImageModel', '@jupyter-widgets/controls', '2.0.0', 'ImageView'), <class 'ipywidgets.widgets.widget_media.Image'>)\n",
      "(('@jupyter-widgets/controls', '2.0.0', 'IntProgressModel', '@jupyter-widgets/controls', '2.0.0', 'ProgressView'), <class 'ipywidgets.widgets.widget_int.IntProgress'>)\n",
      "(('@jupyter-widgets/controls', '2.0.0', 'IntRangeSliderModel', '@jupyter-widgets/controls', '2.0.0', 'IntRangeSliderView'), <class 'ipywidgets.widgets.widget_int.IntRangeSlider'>)\n",
      "(('@jupyter-widgets/controls', '2.0.0', 'IntSliderModel', '@jupyter-widgets/controls', '2.0.0', 'IntSliderView'), <class 'ipywidgets.widgets.widget_int.IntSlider'>)\n",
      "(('@jupyter-widgets/controls', '2.0.0', 'IntTextModel', '@jupyter-widgets/controls', '2.0.0', 'IntTextView'), <class 'ipywidgets.widgets.widget_int.IntText'>)\n",
      "(('@jupyter-widgets/controls', '2.0.0', 'IntsInputModel', '@jupyter-widgets/controls', '2.0.0', 'IntsInputView'), <class 'ipywidgets.widgets.widget_tagsinput.IntsInput'>)\n",
      "(('@jupyter-widgets/controls', '2.0.0', 'LabelModel', '@jupyter-widgets/controls', '2.0.0', 'LabelView'), <class 'ipywidgets.widgets.widget_string.Label'>)\n",
      "(('@jupyter-widgets/controls', '2.0.0', 'LabelStyleModel', '@jupyter-widgets/base', '2.0.0', 'StyleView'), <class 'ipywidgets.widgets.widget_string.LabelStyle'>)\n",
      "(('@jupyter-widgets/controls', '2.0.0', 'LinkModel', '@jupyter-widgets/controls', '2.0.0', None), <class 'ipywidgets.widgets.widget_link.Link'>)\n",
      "(('@jupyter-widgets/controls', '2.0.0', 'NaiveDatetimeModel', '@jupyter-widgets/controls', '2.0.0', 'DatetimeView'), <class 'ipywidgets.widgets.widget_datetime.NaiveDatetimePicker'>)\n",
      "(('@jupyter-widgets/controls', '2.0.0', 'PasswordModel', '@jupyter-widgets/controls', '2.0.0', 'PasswordView'), <class 'ipywidgets.widgets.widget_string.Password'>)\n",
      "(('@jupyter-widgets/controls', '2.0.0', 'PlayModel', '@jupyter-widgets/controls', '2.0.0', 'PlayView'), <class 'ipywidgets.widgets.widget_int.Play'>)\n",
      "(('@jupyter-widgets/controls', '2.0.0', 'ProgressStyleModel', '@jupyter-widgets/base', '2.0.0', 'StyleView'), <class 'ipywidgets.widgets.widget_int.ProgressStyle'>)\n",
      "(('@jupyter-widgets/controls', '2.0.0', 'RadioButtonsModel', '@jupyter-widgets/controls', '2.0.0', 'RadioButtonsView'), <class 'ipywidgets.widgets.widget_selection.RadioButtons'>)\n",
      "(('@jupyter-widgets/controls', '2.0.0', 'SelectModel', '@jupyter-widgets/controls', '2.0.0', 'SelectView'), <class 'ipywidgets.widgets.widget_selection.Select'>)\n",
      "(('@jupyter-widgets/controls', '2.0.0', 'SelectMultipleModel', '@jupyter-widgets/controls', '2.0.0', 'SelectMultipleView'), <class 'ipywidgets.widgets.widget_selection.SelectMultiple'>)\n",
      "(('@jupyter-widgets/controls', '2.0.0', 'SelectionRangeSliderModel', '@jupyter-widgets/controls', '2.0.0', 'SelectionRangeSliderView'), <class 'ipywidgets.widgets.widget_selection.SelectionRangeSlider'>)\n",
      "(('@jupyter-widgets/controls', '2.0.0', 'SelectionSliderModel', '@jupyter-widgets/controls', '2.0.0', 'SelectionSliderView'), <class 'ipywidgets.widgets.widget_selection.SelectionSlider'>)\n",
      "(('@jupyter-widgets/controls', '2.0.0', 'SliderStyleModel', '@jupyter-widgets/base', '2.0.0', 'StyleView'), <class 'ipywidgets.widgets.widget_int.SliderStyle'>)\n",
      "(('@jupyter-widgets/controls', '2.0.0', 'StackModel', '@jupyter-widgets/controls', '2.0.0', 'StackView'), <class 'ipywidgets.widgets.widget_selectioncontainer.Stack'>)\n",
      "(('@jupyter-widgets/controls', '2.0.0', 'TabModel', '@jupyter-widgets/controls', '2.0.0', 'TabView'), <class 'ipywidgets.widgets.widget_selectioncontainer.Tab'>)\n",
      "(('@jupyter-widgets/controls', '2.0.0', 'TagsInputModel', '@jupyter-widgets/controls', '2.0.0', 'TagsInputView'), <class 'ipywidgets.widgets.widget_tagsinput.TagsInput'>)\n",
      "(('@jupyter-widgets/controls', '2.0.0', 'TextModel', '@jupyter-widgets/controls', '2.0.0', 'TextView'), <class 'ipywidgets.widgets.widget_string.Text'>)\n",
      "(('@jupyter-widgets/controls', '2.0.0', 'TextStyleModel', '@jupyter-widgets/base', '2.0.0', 'StyleView'), <class 'ipywidgets.widgets.widget_string.TextStyle'>)\n",
      "(('@jupyter-widgets/controls', '2.0.0', 'TextareaModel', '@jupyter-widgets/controls', '2.0.0', 'TextareaView'), <class 'ipywidgets.widgets.widget_string.Textarea'>)\n",
      "(('@jupyter-widgets/controls', '2.0.0', 'TimeModel', '@jupyter-widgets/controls', '2.0.0', 'TimeView'), <class 'ipywidgets.widgets.widget_time.TimePicker'>)\n",
      "(('@jupyter-widgets/controls', '2.0.0', 'ToggleButtonModel', '@jupyter-widgets/controls', '2.0.0', 'ToggleButtonView'), <class 'ipywidgets.widgets.widget_bool.ToggleButton'>)\n",
      "(('@jupyter-widgets/controls', '2.0.0', 'ToggleButtonStyleModel', '@jupyter-widgets/base', '2.0.0', 'StyleView'), <class 'ipywidgets.widgets.widget_bool.ToggleButtonStyle'>)\n",
      "(('@jupyter-widgets/controls', '2.0.0', 'ToggleButtonsModel', '@jupyter-widgets/controls', '2.0.0', 'ToggleButtonsView'), <class 'ipywidgets.widgets.widget_selection.ToggleButtons'>)\n",
      "(('@jupyter-widgets/controls', '2.0.0', 'ToggleButtonsStyleModel', '@jupyter-widgets/base', '2.0.0', 'StyleView'), <class 'ipywidgets.widgets.widget_selection.ToggleButtonsStyle'>)\n",
      "(('@jupyter-widgets/controls', '2.0.0', 'VBoxModel', '@jupyter-widgets/controls', '2.0.0', 'VBoxView'), <class 'ipywidgets.widgets.widget_box.VBox'>)\n",
      "(('@jupyter-widgets/controls', '2.0.0', 'ValidModel', '@jupyter-widgets/controls', '2.0.0', 'ValidView'), <class 'ipywidgets.widgets.widget_bool.Valid'>)\n",
      "(('@jupyter-widgets/controls', '2.0.0', 'VideoModel', '@jupyter-widgets/controls', '2.0.0', 'VideoView'), <class 'ipywidgets.widgets.widget_media.Video'>)\n",
      "(('@jupyter-widgets/output', '1.0.0', 'OutputModel', '@jupyter-widgets/output', '1.0.0', 'OutputView'), <class 'ipywidgets.widgets.widget_output.Output'>)\n"
     ]
    },
    {
     "name": "stderr",
     "output_type": "stream",
     "text": [
      "C:\\Users\\deleo\\AppData\\Local\\Temp\\ipykernel_14264\\1549973916.py:2: DeprecationWarning: Widget.widget_types is deprecated.\n",
      "  for item in widgets.Widget.widget_types.items():\n"
     ]
    }
   ],
   "source": [
    "import ipywidgets as widgets\n",
    "for item in widgets.Widget.widget_types.items():\n",
    "    print(item)"
   ]
  },
  {
   "cell_type": "code",
   "execution_count": 17,
   "metadata": {},
   "outputs": [
    {
     "data": {
      "application/vnd.jupyter.widget-view+json": {
       "model_id": "57c2859c5f8f4f2ea7f0997db0181987",
       "version_major": 2,
       "version_minor": 0
      },
      "text/plain": [
       "IntSlider(value=50, layout=Layout(height='75px', margin='auto'))"
      ]
     },
     "metadata": {},
     "output_type": "display_data"
    }
   ],
   "source": [
    "w.layout.margin = 'auto'\n",
    "w.layout.height = '75px'\n",
    "display(w)"
   ]
  },
  {
   "cell_type": "code",
   "execution_count": 18,
   "metadata": {},
   "outputs": [
    {
     "data": {
      "application/vnd.jupyter.widget-view+json": {
       "model_id": "09223b3adc164bb6bcd5d2bd865d289f",
       "version_major": 2,
       "version_minor": 0
      },
      "text/plain": [
       "IntSlider(value=15, description='New Slider')"
      ]
     },
     "metadata": {},
     "output_type": "display_data"
    }
   ],
   "source": [
    "x = widgets.IntSlider(value=15, description = 'New Slider')\n",
    "display(x)"
   ]
  },
  {
   "cell_type": "code",
   "execution_count": 21,
   "metadata": {},
   "outputs": [
    {
     "data": {
      "application/vnd.jupyter.widget-view+json": {
       "model_id": "01f8703fed604ea2ad1f4be02772d034",
       "version_major": 2,
       "version_minor": 0
      },
      "text/plain": [
       "Button(button_style='info', description='Ordinary Button', style=ButtonStyle())"
      ]
     },
     "execution_count": 21,
     "metadata": {},
     "output_type": "execute_result"
    }
   ],
   "source": [
    "widgets.Button(description='Ordinary Button', button_style='info')"
   ]
  },
  {
   "cell_type": "code",
   "execution_count": 22,
   "metadata": {},
   "outputs": [
    {
     "data": {
      "application/vnd.jupyter.widget-view+json": {
       "model_id": "cc5ffb64df504fa0ae656b826abbe1c1",
       "version_major": 2,
       "version_minor": 0
      },
      "text/plain": [
       "Button(description='Custom Color', style=ButtonStyle(button_color='lightgreen'))"
      ]
     },
     "execution_count": 22,
     "metadata": {},
     "output_type": "execute_result"
    }
   ],
   "source": [
    "b1 = widgets.Button(description='Custom Color')\n",
    "b1.style.button_color = 'lightgreen'\n",
    "b1"
   ]
  },
  {
   "cell_type": "code",
   "execution_count": 24,
   "metadata": {},
   "outputs": [
    {
     "data": {
      "application/vnd.jupyter.widget-view+json": {
       "model_id": "bc0c475a970546ae9da7173f8ecde5f0",
       "version_major": 2,
       "version_minor": 0
      },
      "text/plain": [
       "Button(description='New', style=ButtonStyle(button_color='lightgreen'))"
      ]
     },
     "execution_count": 24,
     "metadata": {},
     "output_type": "execute_result"
    }
   ],
   "source": [
    "b2 = widgets.Button(description='New')\n",
    "b2.style = b1.style\n",
    "b2"
   ]
  },
  {
   "cell_type": "code",
   "execution_count": 25,
   "metadata": {},
   "outputs": [],
   "source": [
    "s1 = widgets.IntSlider(description='New')"
   ]
  }
 ],
 "metadata": {
  "kernelspec": {
   "display_name": "Python 3",
   "language": "python",
   "name": "python3"
  },
  "language_info": {
   "codemirror_mode": {
    "name": "ipython",
    "version": 3
   },
   "file_extension": ".py",
   "mimetype": "text/x-python",
   "name": "python",
   "nbconvert_exporter": "python",
   "pygments_lexer": "ipython3",
   "version": "3.13.0"
  }
 },
 "nbformat": 4,
 "nbformat_minor": 2
}
